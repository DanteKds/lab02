{
  "cells": [
    {
      "cell_type": "markdown",
      "metadata": {},
      "source": [
        "# Runner extracción de boletas\n",
        "Este notebook carga `funciones.py`, instala dependencias si faltan y ejecuta el procesamiento por lote."
      ]
    },
    {
      "cell_type": "code",
      "execution_count": 1,
      "metadata": {},
      "outputs": [],
      "source": [
        "%pip install pdfplumber pandas openpyxl --quiet\n",
        "from pathlib import Path\n",
        "from importlib import reload\n",
        "import funciones\n",
        "reload(funciones)\n",
        "\n",
        "# Ajusta las rutas a tu entorno Windows\n",
        "CARPETA_BOLETAS = Path(r\"C:\\respaldos_boletas\")\n",
        "CARPETA_SALIDA  = Path(r\"C:\\lab02\\salidas\")\n",
        "\n",
        "out = funciones.procesar_boletas(CARPETA_BOLETAS, CARPETA_SALIDA)\n",
        "out"
      ]
    }
  ],
  "metadata": {
    "kernelspec": {
      "display_name": "Python 3",
      "language": "python",
      "name": "python3"
    },
    "language_info": {
      "name": "python",
      "version": "3.x"
    }
  },
  "nbformat": 4,
  "nbformat_minor": 5
}