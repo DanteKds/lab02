{
  "cells": [
    {
      "cell_type": "markdown",
      "metadata": {},
      "source": [
        "# Ejecutor de extracción de boletas (Notebook en español)\n",
        "\n",
        "Este notebook instala dependencias mínimas, carga `funciones.py` (con nombres en español) y ejecuta el procesamiento por lotes.\n",
        "\n",
        "**Pasos rápidos:**\n",
        "1. Ajusta las rutas de carpetas (boletas PDF y carpeta de salida).\n",
        "2. Ejecuta la celda de instalación.\n",
        "3. Ejecuta la celda de procesamiento.\n"
      ]
    },
    {
      "cell_type": "code",
      "execution_count": null,
      "metadata": {},
      "outputs": [],
      "source": [
        "%pip install pdfplumber pandas openpyxl --quiet\n",
        "from importlib import reload\n",
        "from pathlib import Path\n",
        "import funciones\n",
        "reload(funciones)\n",
        "\n",
        "# === Ajusta estas rutas a tu entorno Windows ===\n",
        "CARPETA_BOLETAS = Path(r\"C:\\respaldos_boletas\")\n",
        "CARPETA_SALIDA  = Path(r\"C:\\lab02\\salidas\")\n",
        "CARPETA_SALIDA.mkdir(parents=True, exist_ok=True)\n",
        "print(\"Rutas establecidas:\")\n",
        "print(\" - Boletas:\", CARPETA_BOLETAS)\n",
        "print(\" - Salida :\", CARPETA_SALIDA)\n"
      ]
    },
    {
      "cell_type": "code",
      "execution_count": null,
      "metadata": {},
      "outputs": [],
      "source": [
        "# === Procesar boletas y mostrar el archivo generado ===\n",
        "ruta_csv = funciones.procesar_boletas(CARPETA_BOLETAS, CARPETA_SALIDA)\n",
        "print(\"CSV generado:\", ruta_csv)\n",
        "\n",
        "# Carga rápida del CSV resultante para revisión\n",
        "import pandas as pd\n",
        "df = pd.read_csv(ruta_csv)\n",
        "df.head(10)"
      ]
    }
  ],
  "metadata": {
    "kernelspec": {
      "display_name": "Python 3",
      "language": "python",
      "name": "python3"
    },
    "language_info": {
      "name": "python",
      "version": "3.x"
    }
  },
  "nbformat": 4,
  "nbformat_minor": 5
}